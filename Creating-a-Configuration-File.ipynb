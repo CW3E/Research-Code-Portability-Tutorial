{
 "cells": [
  {
   "cell_type": "markdown",
   "id": "071ea70e",
   "metadata": {},
   "source": [
    "![<CW3E Logo>](https://cw3e.ucsd.edu/images/cw3e_logo_files/wetransfer-b4ff74/CW3E%20Final%20Logo%20Suite/4-Horizontal-Acronym/Digital/PNG/CW3E-Logo-Horizontal-Acronym-FullColor.png \"Center for Western Weather and Water Extremes Logo\")"
   ]
  },
  {
   "cell_type": "markdown",
   "id": "5c3eb308",
   "metadata": {},
   "source": [
    "# Creating Configuration Files\n",
    "\n",
    "---"
   ]
  },
  {
   "cell_type": "markdown",
   "id": "3d2a6007",
   "metadata": {},
   "source": [
    "## Overview\n",
    "---\n",
    "\n",
    "One way someone can make their code more replicable and user-friendly through the use of an universal configuration file. Environmental variables/global parameters are defined in a configuration file rather than directly in the scripts. This removes the need for a user to manually go, find, and edit a hard-coded environmental variable or parameter within the every script in a workflow. Hence, by creating a configuration file, you are helping with your program's efficiency and user productivity. \n",
    "\n",
    "This notebook will go over:\n",
    "1. Generating a configuration file for Bash scripts\n",
    "2. Generating a configuration file for Python scripts\n",
    "3. Implimenting these configuration files into their respective scripts"
   ]
  },
  {
   "cell_type": "markdown",
   "id": "872eec23",
   "metadata": {},
   "source": [
    "## Prerequisites\n",
    "---\n",
    "\n",
    "| **Concept** | **Importance** | **Notes** |\n",
    "|:-----------:|:--------------:|:---------:|\n",
    "| Bash           | Necessary              | Understand on an intermediate level         |\n",
    "| Python           | Necessary              | Understand on an intermediate level         |\n",
    "\n",
    "* **Time to Learn:** 1 hour est."
   ]
  },
  {
   "cell_type": "markdown",
   "id": "3989e083",
   "metadata": {},
   "source": [
    "## Generating an Executable Bash Configuration File\n",
    "\n",
    "---\n",
    "\n",
    "To create a configuration file, make sure to be in the same working directory as your scripts. For this workflow, I will be using the [MET-tools scripts](https://github.com/CW3E/MET-tools/tree/main/Grid-Stat) which are in the following directory for me."
   ]
  },
  {
   "cell_type": "code",
   "execution_count": 1,
   "id": "53c2553b",
   "metadata": {},
   "outputs": [
    {
     "name": "stdout",
     "output_type": "stream",
     "text": [
      "/home/jlconti\n"
     ]
    }
   ],
   "source": [
    "cd"
   ]
  },
  {
   "cell_type": "code",
   "execution_count": 2,
   "id": "e6b11806",
   "metadata": {},
   "outputs": [
    {
     "name": "stdout",
     "output_type": "stream",
     "text": [
      "/home/jlconti/MET-tools/Grid-Stat\n"
     ]
    }
   ],
   "source": [
    "cd MET-tools/Grid-Stat/"
   ]
  },
  {
   "cell_type": "code",
   "execution_count": 3,
   "id": "cd76f29d",
   "metadata": {},
   "outputs": [
    {
     "name": "stdout",
     "output_type": "stream",
     "text": [
      "\u001b[0m\u001b[38;5;34mbatch_gridstat.sh\u001b[0m*         \u001b[38;5;34mpre_processing_config.sh\u001b[0m*  \u001b[38;5;34mrun_wrfout_cf.sh\u001b[0m*\r\n",
      "\u001b[38;5;34mbatch_gridstat_global.sh\u001b[0m*  \u001b[38;5;34mrun_gridstat.sh\u001b[0m*\r\n",
      "\u001b[38;5;34mbatch_wrfout_cf.sh\u001b[0m*        \u001b[38;5;34mrun_vxmask.sh\u001b[0m*\r\n"
     ]
    }
   ],
   "source": [
    "ls *.sh"
   ]
  },
  {
   "cell_type": "markdown",
   "id": "5856945f",
   "metadata": {},
   "source": [
    "Once in the desired directory, we can generate a shell configuration file by running the following syntax in the terminal"
   ]
  },
  {
   "cell_type": "markdown",
   "id": "a1161ebe",
   "metadata": {},
   "source": [
    "```\n",
    "vim <configuration_filename>.sh\n",
    "```"
   ]
  },
  {
   "cell_type": "markdown",
   "id": "e82cbbcd",
   "metadata": {},
   "source": [
    "This will generate a shell script with your desired configuration file name. For the purposes of this notebook, the configuration file I made was named `pre_processing_config.sh`. Before implementing this file into our code, however, we must make it an executable file. First, we must add the following line at the very top of `pre_processing_config.sh`."
   ]
  },
  {
   "cell_type": "markdown",
   "id": "463f7f6d",
   "metadata": {},
   "source": [
    "```\n",
    "#!/bin/bash\n",
    "```"
   ]
  },
  {
   "cell_type": "markdown",
   "id": "5962ebd3",
   "metadata": {},
   "source": [
    "For example, in my Bash configuration file for the MET-tools shell scripts, the top of the file looks like"
   ]
  },
  {
   "cell_type": "code",
   "execution_count": 4,
   "id": "1db889d5",
   "metadata": {},
   "outputs": [
    {
     "name": "stdout",
     "output_type": "stream",
     "text": [
      "#!/bin/bash\n",
      "##################################################################################\n",
      "# Description\n",
      "##################################################################################\n"
     ]
    }
   ],
   "source": [
    "%%bash\n",
    "head -4 pre_processing_config.sh"
   ]
  },
  {
   "cell_type": "markdown",
   "id": "1bdee1fd",
   "metadata": {},
   "source": [
    "This command at the top of our script tells the shell what interpreter to run. In other words, this instructs the operating system to run `pre_processing_config.sh` as a normal shell script. Now we can save and exit and return to our working directory.\n",
    "\n",
    "If we run the command `ls -F` in the terminal, we can see a classified list of everything in our working directory. Look at your new `pre_processing_config.sh` file; if there is a trailing `*`, it is an executable file. If there is no trailing `*`, then it is not an executable file, and we need to make it one by running the following line of code in the terminal within our working directory."
   ]
  },
  {
   "cell_type": "markdown",
   "id": "755731db",
   "metadata": {},
   "source": [
    "```\n",
    "chmod +x configuration.sh\n",
    "``` "
   ]
  },
  {
   "cell_type": "markdown",
   "id": "5b81d47a",
   "metadata": {},
   "source": [
    "Verify that `configuration.sh` is an executable now by running `ls -F` in the terminal again."
   ]
  },
  {
   "cell_type": "code",
   "execution_count": 5,
   "id": "d21d436d",
   "metadata": {},
   "outputs": [
    {
     "name": "stdout",
     "output_type": "stream",
     "text": [
      "\u001b[0m\u001b[38;5;34mbatch_gridstat.sh\u001b[0m*         \u001b[38;5;34mpre_processing_config.sh\u001b[0m*  \u001b[38;5;34mrun_wrfout_cf.sh\u001b[0m*\r\n",
      "\u001b[38;5;34mbatch_gridstat_global.sh\u001b[0m*  \u001b[38;5;34mrun_gridstat.sh\u001b[0m*\r\n",
      "\u001b[38;5;34mbatch_wrfout_cf.sh\u001b[0m*        \u001b[38;5;34mrun_vxmask.sh\u001b[0m*\r\n"
     ]
    }
   ],
   "source": [
    "ls -F *.sh"
   ]
  },
  {
   "cell_type": "markdown",
   "id": "505fa063",
   "metadata": {},
   "source": [
    "### Adding Variables to the Bash Configuration File\n",
    "\n",
    "---\n",
    "\n",
    "Now that our configuration file has been made executable, we can define environmental variables. For example, in the [`batch_wrfout_cf.sh` script](https://github.com/CW3E/MET-tools/blob/main/Grid-Stat/batch_wrfout_cf.sh), the majority of the global parameters defined can be removed and added to the configuration file instead. A selection of these global parameters is shown below."
   ]
  },
  {
   "cell_type": "markdown",
   "id": "6586d241",
   "metadata": {},
   "source": [
    "```\n",
    "export TZ=\"GMT\"\n",
    "export USR_HME=/home/jlconti/MET-tools\n",
    "export STRT_DT=2022121400\n",
    "export END_DT=2023011800\n",
    "```"
   ]
  },
  {
   "cell_type": "markdown",
   "id": "7a187dd4",
   "metadata": {},
   "source": [
    "Having these environmental variables within the configuration file replaces the need to include them hard-coded within the scripts.\n",
    "\n",
    "> The only global parameters excluded from being transferred to a configuration file were any ISO directory variables (for example: `export IN_ROOT=...` and `export OUT_ROOT=...`).\n",
    ">> Variables that are script-dependent or change a lot (such as in/output paths) are not ideal to put in a universal configuration file.\n",
    "\n",
    "We can now add the variables related to the Singularity container into the configuration file. We can do this by adding the following lines of code (and similar for any other commands now dependent on the Singularity container).\n",
    "\n",
    ">For more information on the NetCDF Singularity container that is being used in these following commands, refer to the [Singularity Container Jupyter notebook](./Creating-a-Singularity-Container-for-a-Conda-Environment.ipynb)."
   ]
  },
  {
   "cell_type": "markdown",
   "id": "2cb10de1",
   "metadata": {},
   "source": [
    "```\n",
    "export NCKS_CMD=\"singularity exec --bind /cw3e:/cw3e,/scratch:/scratch /cw3e/mead/projects/cwp106/scratch/jlconti/MET_tools_conda_netcdf.sif ncks\"\n",
    "export NCL_CMD=\"singularity exec --bind /cw3e:/cw3e,/scratch:/scratch /cw3e/mead/projects/cwp106/scratch/jlconti/MET_tools_conda_netcdf.sif ncl\"\n",
    "export CDO_CMD=\"singularity exec --bind /cw3e:/cw3e,/scratch:/scratch /cw3e/mead/projects/cwp106/scratch/jlconti/MET_tools_conda_netcdf.sif cdo\"\n",
    "```"
   ]
  },
  {
   "cell_type": "markdown",
   "id": "1703eec0",
   "metadata": {},
   "source": [
    "Once all of the desired environmental variables are within our configuration file, it should look as such."
   ]
  },
  {
   "cell_type": "code",
   "execution_count": 6,
   "id": "df0c1046",
   "metadata": {},
   "outputs": [
    {
     "name": "stdout",
     "output_type": "stream",
     "text": [
      "#!/bin/bash\r\n",
      "##################################################################################\r\n",
      "# Description\r\n",
      "##################################################################################\r\n",
      "# This configuration file is for the MET-tools workflow. These environmental \r\n",
      "# variables are defined for the use of the pre-processing bash scripts in the \r\n",
      "# workflow. Furthermore, in this file are a few Singularity container-dependent \r\n",
      "# variables designed for the conda environents implimented in the MET-tools \r\n",
      "# scripts.\r\n",
      "#\r\n",
      "##################################################################################\r\n",
      "# GLOBAL PARAMETERS TO BE SET BY USER\r\n",
      "##################################################################################\r\n",
      "\r\n",
      "# Root directory for MET-tools git clone\r\n",
      "export USR_HME=/home/jlconti/MET-tools\r\n",
      "\r\n",
      "# Refine the case-wise sub-directory for path names, leave as empty string if not needed\r\n",
      "export CSE=jlconti\r\n",
      "\r\n",
      "# Root directory for MET singularity image\r\n",
      "export SOFT_ROOT=/home/jlconti\r\n",
      "\r\n",
      "# Define first and last date time for forecast initialization (YYYYMMDDHH)\r\n",
      "export STRT_DT=2022123100\r\n",
      "export END_DT=2023011800\r\n",
      "\r\n",
      "# Array of control flow names to be processed\r\n",
      "CTR_FLWS=( \r\n",
      "          \"NRT_gfs\"\r\n",
      "          \"NRT_ecmwf\"\r\n",
      "         )\r\n",
      "\r\n",
      "# Model grid / domain to be processed\r\n",
      "GRDS=( \r\n",
      "      \"d01\"\r\n",
      "      \"d02\"\r\n",
      "      \"d03\"\r\n",
      "     )\r\n",
      "\r\n",
      "# Specify thresholds levels for verification\r\n",
      "export CAT_THR=\"[ >0.0, >=1.0, >=10.0, >=25.0, >=50.0 ]\"\r\n",
      "\r\n",
      "# Define the interpolation method and related parameters\r\n",
      "INT_MTHDS=( \r\n",
      "           \"DW_MEAN\"\r\n",
      "           \"DW_MEAN\"\r\n",
      "           \"DW_MEAN\"\r\n",
      "          )\r\n",
      "\r\n",
      "INT_WDTHS=( \r\n",
      "           \"3\"\r\n",
      "           \"9\"\r\n",
      "           \"27\"\r\n",
      "          )\r\n",
      "\r\n",
      "# Singularity Container Variables for NetCDF Environment\r\n",
      "export NCKS_CMD=\"singularity exec --bind /cw3e:/cw3e,/scratch:/scratch /cw3e/mead/projects/cwp106/scratch/jlconti/MET_tools_conda_netcdf.sif ncks\"\r\n",
      "export NCL_CMD=\"singularity exec --bind /cw3e:/cw3e,/scratch:/scratch /cw3e/mead/projects/cwp106/scratch/jlconti/MET_tools_conda_netcdf.sif ncl\"\r\n",
      "export CDO_CMD=\"singularity exec --bind /cw3e:/cw3e,/scratch:/scratch /cw3e/mead/projects/cwp106/scratch/jlconti/MET_tools_conda_netcdf.sif cdo\"\r\n",
      "\r\n",
      "##################################################################################\r\n",
      "# GLOBAL PARAMETERS THAT MAY NEED TO CHANGE\r\n",
      "##################################################################################\r\n",
      "\r\n",
      "# Root directory for verification data\r\n",
      "export DATA_ROOT=/cw3e/mead/projects/cnt102/METMODE_PreProcessing/data/StageIV\r\n",
      "\r\n",
      "# Define the interval between forecast initializations (HH)\r\n",
      "export CYC_INT=24\r\n",
      "\r\n",
      "# Define min / max forecast hours for forecast outputs to be processed\r\n",
      "export ANL_MIN=24\r\n",
      "export ANL_MAX=240\r\n",
      "\r\n",
      "# Define the interval at which to process forecast outputs (HH)\r\n",
      "export ANL_INT=24\r\n",
      "\r\n",
      "# Define the accumulation interval for verification valid times\r\n",
      "export ACC_INT=24\r\n",
      "\r\n",
      "# Set to regrid to lat-lon for MET compatibility when handling grid errors (TRUE or FALSE)\r\n",
      "export RGRD=TRUE\r\n",
      "\r\n",
      "# Neighborhood width for neighborhood methods\r\n",
      "export NBRHD_WDTH=9\r\n",
      "\r\n",
      "# Number of bootstrap resamplings, set 0 for off\r\n",
      "export BTSTRP=0\r\n",
      "\r\n",
      "# Rank correlation computation flag, TRUE or FALSE\r\n",
      "export RNK_CRR=FALSE\r\n",
      "\r\n",
      "# Compute accumulation from cf file, TRUE or FALSE\r\n",
      "export CMP_ACC=FALSE\r\n",
      "\r\n",
      "# Optionally define a gridstat output prefix, use a blank string for no prefix\r\n",
      "export PRFX=\"\"\r\n",
      "\r\n",
      "##################################################################################\r\n",
      "# GLOBAL PARAMETERS THAT PROBABLY WON'T NEED TO CHANGE\r\n",
      "##################################################################################\r\n",
      "\r\n",
      "# Using GMT time zone for time computations\r\n",
      "export TZ=\"GMT\"\r\n",
      "\r\n",
      "# MET singularity image path\r\n",
      "export MET_SNG=${SOFT_ROOT}/met-10.0.1.simg\r\n",
      "\r\n",
      "# Root directory for landmasks, lat-lon files, and reference StageIV grid\r\n",
      "export MSK_ROOT=${USR_HME}/polygons\r\n",
      "\r\n",
      "# Path to file with list of landmasks for verification regions\r\n",
      "export MSKS=${MSK_ROOT}/mask-lists/NRT_MaskList.txt\r\n",
      "\r\n",
      "# Output directory for landmasks\r\n",
      "export MSK_OUT=${MSK_ROOT}/NRT_Masks\r\n",
      "\r\n",
      "# Define path to StageIV data product for reference verfication grid\r\n",
      "# an arbitrary file with the correct grid is sufficient\r\n",
      "export OBS_F_IN=StageIV_QPE_2019021500.nc\r\n",
      "\r\n",
      "# Define the verification field\r\n",
      "export VRF_FLD=QPF\r\n",
      "\r\n"
     ]
    }
   ],
   "source": [
    "cat pre_processing_config.sh"
   ]
  },
  {
   "cell_type": "markdown",
   "id": "b83ea9f2",
   "metadata": {},
   "source": [
    "<a name=\"config_order\">\n",
    "\n",
    ">When making a configuration file, it is often useful to separate environmental variables into 3 distinct catagories\n",
    "    </a>\n",
    ">> 1. Variables the user will definitely have to change (Ex: directories, paths, commonly changed values)\n",
    "> 2. Variables that the user may need to change (Ex: variables that could change depending on the data being used or the desired result)\n",
    "> 3. Variables that will probably not need to be changed by the user (Ex: system functions)\n"
   ]
  },
  {
   "cell_type": "markdown",
   "id": "760214b6",
   "metadata": {},
   "source": [
    "### Adding the Configuration File to Bash Scripts\n",
    "\n",
    "---\n",
    "\n",
    "Once all the necessary variables for our code have been set in the configuration file, we can add the file to our scripts. This can be done by simply adding the following line of code to the top of our scripts."
   ]
  },
  {
   "cell_type": "markdown",
   "id": "a3ade3c2",
   "metadata": {},
   "source": [
    "```\n",
    "source pre_processing_config.sh\n",
    "```"
   ]
  },
  {
   "cell_type": "markdown",
   "id": "0fcd9e2c",
   "metadata": {},
   "source": [
    "or"
   ]
  },
  {
   "cell_type": "markdown",
   "id": "ccab5bc6",
   "metadata": {},
   "source": [
    "```\n",
    ". pre_processing_config.sh\n",
    "```"
   ]
  },
  {
   "cell_type": "markdown",
   "id": "516b883f",
   "metadata": {},
   "source": [
    "This embedded command will call the configuration file and create definitions for environmental variables and global parameters. For example, we called the configuration file in the `batch_wrfout.sh` script at line 42, as printed below."
   ]
  },
  {
   "cell_type": "code",
   "execution_count": 7,
   "id": "a818fc6e",
   "metadata": {},
   "outputs": [
    {
     "name": "stdout",
     "output_type": "stream",
     "text": [
      "# Source the configuration file to define majority of required variables\n",
      "source pre_processing_config.sh\n"
     ]
    }
   ],
   "source": [
    "%%bash\n",
    "sed -n '41,42p' batch_wrfout_cf.sh"
   ]
  },
  {
   "cell_type": "markdown",
   "id": "75170707",
   "metadata": {},
   "source": [
    "With our defined environmental variables now in the configuration file, we call any needed variable in the script itself using the syntax `${VAR_NAME}`. For example, in our scripts, we used the following."
   ]
  },
  {
   "cell_type": "markdown",
   "id": "8b608f48",
   "metadata": {},
   "source": [
    "```\n",
    "${USR_HME}\n",
    "\n",
    "${NCKS_CMD}\n",
    "```"
   ]
  },
  {
   "cell_type": "markdown",
   "id": "13a62b53",
   "metadata": {},
   "source": [
    "This implimented into a line of code looks like the following printed lines of code from `run_wrfout_cf.sh`"
   ]
  },
  {
   "cell_type": "code",
   "execution_count": 8,
   "id": "56ce5fde",
   "metadata": {},
   "outputs": [
    {
     "name": "stdout",
     "output_type": "stream",
     "text": [
      "if [ ! ${USR_HME} ]; then\n"
     ]
    }
   ],
   "source": [
    "%%bash\n",
    "sed -n '44p' run_wrfout_cf.sh"
   ]
  },
  {
   "cell_type": "code",
   "execution_count": 9,
   "id": "5bc0690a",
   "metadata": {},
   "outputs": [
    {
     "name": "stdout",
     "output_type": "stream",
     "text": [
      "          cmd=\"${NCKS_CMD} -A -v forecast_reference_time ${out_name} ${out_name}_tmp\"\n"
     ]
    }
   ],
   "source": [
    "%%bash\n",
    "sed -n '217p' run_wrfout_cf.sh"
   ]
  },
  {
   "cell_type": "markdown",
   "id": "9695273f",
   "metadata": {},
   "source": [
    "Now that our configuration file has been placed within our scripts and the global parameters have been referenced, we can run our scripts (EX: `sbatch batch_wrfout_cf.sh`). If everything runs correctly, we know the configuration file has successfully replaced the need for hard-coded variables within the scripts. Now, if we have to change any parameters, we can edit the configuration file rather than the scripts themselves. "
   ]
  },
  {
   "cell_type": "markdown",
   "id": "9c186ada",
   "metadata": {},
   "source": [
    "## Generating a Python Configuration File\n",
    "---\n",
    "Making a Python configuration file is similar to the steps to make a Bash configuration file. However, some steps and syntax is different. This section will review the specifics for a Python config file.\n",
    "\n",
    "Before building the configuration file, ensure you are in the same working directory as your Python scripts. I will be using the same MET-tools/Grid-Stat directory as before, which as a reminder, was in the following path"
   ]
  },
  {
   "cell_type": "code",
   "execution_count": 10,
   "id": "e7f9a34f",
   "metadata": {},
   "outputs": [
    {
     "name": "stdout",
     "output_type": "stream",
     "text": [
      "/home/jlconti\n"
     ]
    }
   ],
   "source": [
    "cd"
   ]
  },
  {
   "cell_type": "code",
   "execution_count": 11,
   "id": "211e4a5a",
   "metadata": {},
   "outputs": [
    {
     "name": "stdout",
     "output_type": "stream",
     "text": [
      "/home/jlconti/MET-tools/Grid-Stat\n"
     ]
    }
   ],
   "source": [
    "cd MET-tools/Grid-Stat/"
   ]
  },
  {
   "cell_type": "code",
   "execution_count": 12,
   "id": "71d12bc5",
   "metadata": {},
   "outputs": [
    {
     "name": "stdout",
     "output_type": "stream",
     "text": [
      "plt_gridstat_multidate_heatplot.py        plt_gridstat_multilevel_heatplot.py\r\n",
      "plt_gridstat_multidate_heatplot_level.py  post_processing_config.py\r\n",
      "plt_gridstat_multilead_lineplot.py        proc_gridstat.py\r\n",
      "plt_gridstat_multilead_lineplot_level.py  proc_gridstat_global.py\r\n"
     ]
    }
   ],
   "source": [
    "ls *.py"
   ]
  },
  {
   "cell_type": "markdown",
   "id": "6b156a18",
   "metadata": {},
   "source": [
    "Similar to before, we can generate a Python configuration file by running"
   ]
  },
  {
   "cell_type": "markdown",
   "id": "be47b23d",
   "metadata": {},
   "source": [
    "```\n",
    "vim <configuration_filename>.py\n",
    "```"
   ]
  },
  {
   "cell_type": "markdown",
   "id": "47758b42",
   "metadata": {},
   "source": [
    "This will make a Python script with a desired filename. For the purposes of my work, I made a configuration file named `post_processing_config.py`. Unlike the Bash configuration file, we do not have add anything to this configuration file to make it an executable."
   ]
  },
  {
   "cell_type": "markdown",
   "id": "dc1bc624",
   "metadata": {},
   "source": [
    "### Adding Variables to a Python Configuration File\n",
    "---\n",
    "Now that our `*.py` configuration file has been made, we can now start adding environmental variables to it. Majority of the variables in the various Python scripts in the working directory can be added to the global configuration file. A selection of these variables and their syntax is shown below.\n",
    "\n",
    ">Adding a variable to a configuration file replaces the need for the variable to be hard-coded in the scripts itself. \n",
    ">>In other words, you can remove any variable definitions in your scripts that is in your configuration file."
   ]
  },
  {
   "cell_type": "markdown",
   "id": "905f676b",
   "metadata": {},
   "source": [
    "```\n",
    "STRT_DT = '2022121400'\n",
    "END_DT = '2023011800'\n",
    "LND_MSK = 'San_Francisco_Bay'\n",
    "FIG_CSE = '/Case_Study/Bay_Area'\n",
    "```"
   ]
  },
  {
   "cell_type": "markdown",
   "id": "ce711634",
   "metadata": {},
   "source": [
    "Defining variables like these within a once in a centralized configuration file will allow the python plotting workflow to be more efficient. Now, the user will only have to change a variable definition once without changing the every hard-coded script.\n",
    "\n",
    "Once every environmental variable has been defined in the configuration file, the contents should be similar to the file shown below."
   ]
  },
  {
   "cell_type": "code",
   "execution_count": 13,
   "id": "e2fc0b0b",
   "metadata": {},
   "outputs": [
    {
     "name": "stdout",
     "output_type": "stream",
     "text": [
      "##################################################################################\r\n",
      "# Description\r\n",
      "##################################################################################\r\n",
      "# This configuration file is for the post-processing section of the MET-tools\r\n",
      "# workflow. These environmental variables are defined for the python scripts in\r\n",
      "# the MET-tools directory. \r\n",
      "#\r\n",
      "##################################################################################\r\n",
      "# GLOBAL PARAMETERS TO BE SET BY THE USER\r\n",
      "##################################################################################\r\n",
      "\r\n",
      "# define control flow to analyze for heatmaps \r\n",
      "CTR_FLW = 'NRT_ecmwf'\r\n",
      "\r\n",
      "# define control flows to analyze for lineplots \r\n",
      "CTR_FLWS = [\r\n",
      "            'NRT_gfs',\r\n",
      "            'NRT_ecmwf',\r\n",
      "            'GFS',\r\n",
      "            'ECMWF',\r\n",
      "           ]\r\n",
      "\r\n",
      "# verification domain for the forecast data for heatmaps\r\n",
      "GRD = 'd01'\r\n",
      "\r\n",
      "# verification domains for the forecast data for lineplots\r\n",
      "GRDS = [\r\n",
      "        'd01',\r\n",
      "        'd02',\r\n",
      "        'd03',\r\n",
      "        '',\r\n",
      "       ]\r\n",
      "\r\n",
      "# starting date and zero hour of forecast cycles (string YYYYMMDDHH)\r\n",
      "# defined for the purposes of post-processing ASCII and binary files\r\n",
      "STRT_DT = '2022121400'\r\n",
      "\r\n",
      "# final date and zero hour of data of forecast cycles (string YYYYMMDDHH)\r\n",
      "# defined for the purposes of post-processing ASCII and binary files\r\n",
      "END_DT = '2023011800'\r\n",
      "\r\n",
      "# first valid time for verification (string YYYYMMDDHH)\r\n",
      "# defined for plotting of heatmaps\r\n",
      "ANL_STRT = '2022122800'\r\n",
      "\r\n",
      "# final valid time (string YYYYMMDDHH)\r\n",
      "# defined for plotting of heatmaps\r\n",
      "ANL_END = '2023010200'\r\n",
      "\r\n",
      "# valid date for the verification\r\n",
      "# defined for the plotting of lineplots\r\n",
      "VALID_DT = '2022122900'\r\n",
      "\r\n",
      "# define the case-wise sub-directory\r\n",
      "CSE = 'jlconti'\r\n",
      "\r\n",
      "# fig label for output file organization, included in figure file name\r\n",
      "FIG_LAB = 'case_study'\r\n",
      "\r\n",
      "# fig case directory, includes leading '/', leave as empty string if not needed\r\n",
      "FIG_CSE = '/Case_Study/Bay_Area'\r\n",
      "\r\n",
      "# landmask for verification region -- needs to be set in gridstat options\r\n",
      "LND_MSK = 'San_Francisco_Bay'\r\n",
      "\r\n",
      "# precipitation threshold level to plot the FSS/AFSS metric\r\n",
      "LEV = '>=50.0'\r\n",
      "\r\n",
      "##################################################################################\r\n",
      "# GLOBAL PARAMETERS THAT MAY NEED TO CHANGE\r\n",
      "##################################################################################\r\n",
      "\r\n",
      "# define if legend label includes grid\r\n",
      "GRD_LAB = True\r\n",
      "\r\n",
      "# define optional gridstat prefix for heatmaps, include empty string to ignore\r\n",
      "PRFX = ''\r\n",
      "\r\n",
      "# define optional list of stats files prefixes for lineplots, include empty string to ignore\r\n",
      "PRFXS = [\r\n",
      "        '',\r\n",
      "        ]\r\n",
      "\r\n",
      "# Max forecast lead time to plot in hours\r\n",
      "MAX_LD = '240'\r\n",
      "\r\n",
      "# number of hours between zero hours for forecast data (string HH)\r\n",
      "CYC_INT = '24'\r\n",
      "\r\n",
      "# cycle interval verification valid times (string HH)\r\n",
      "ANL_INT = '24'\r\n",
      "\r\n",
      "# use dynamic color bar scale depending on data percentiles, True / False\r\n",
      "# Use this as True by default unless specifying a specific color bar scale and\r\n",
      "# scheme in the below\r\n",
      "DYN_SCL = True\r\n",
      "\r\n",
      "# these values will only be used if the DYN_SCL above is set to False\r\n",
      "MIN_SCALE = 0.0\r\n",
      "MAX_SCALE = 1.0\r\n",
      "\r\n",
      "##################################################################################\r\n",
      "# GLOBAL PARAMETERS THAT PROBABLY WON'T NEED TO CHANGE\r\n",
      "##################################################################################\r\n",
      "\r\n",
      "# Define a list of indices for underscore-separated components of control flow\r\n",
      "# names to include in fig legend. Note: a non-empty prefix value below will\r\n",
      "# always be included in the legend label, and control flows with fewer components\r\n",
      "# than indices above will only include those label components that exist\r\n",
      "LAB_IDX = [0, 1] \r\n",
      "\r\n"
     ]
    }
   ],
   "source": [
    "cat post_processing_config.py"
   ]
  },
  {
   "cell_type": "markdown",
   "id": "b3cb9e63",
   "metadata": {},
   "source": [
    "> For information on how this configuration file was organized, refer back to this [previous blockquote](#config_order)."
   ]
  },
  {
   "cell_type": "markdown",
   "id": "0c25daee",
   "metadata": {},
   "source": [
    "### Importing the Configuration File to Python Scripts\n",
    "---\n",
    "\n",
    "Once every global parameter has been defined in our configuration file, we can import the file into our Python scripts. Similar to other Python imports, we can source the configuration file by adding the following line. "
   ]
  },
  {
   "cell_type": "markdown",
   "id": "7d03c290",
   "metadata": {},
   "source": [
    "```\n",
    "import post_processing_config as config\n",
    "```"
   ]
  },
  {
   "cell_type": "markdown",
   "id": "2b64271c",
   "metadata": {},
   "source": [
    "> Instead of \"config\" you can use any prefered alias for the configuration file."
   ]
  },
  {
   "cell_type": "markdown",
   "id": "4a4ac199",
   "metadata": {},
   "source": [
    "For example, in the `proc_gridstat.py` script, the configuration file was imported as shown in the import list below"
   ]
  },
  {
   "cell_type": "code",
   "execution_count": 14,
   "id": "ccae785e",
   "metadata": {},
   "outputs": [
    {
     "name": "stdout",
     "output_type": "stream",
     "text": [
      "##################################################################################\n",
      "# Imports\n",
      "##################################################################################\n",
      "import sys\n",
      "import os\n",
      "import numpy as np\n",
      "import pandas as pd\n",
      "import pickle\n",
      "import copy\n",
      "import glob\n",
      "from datetime import datetime as dt\n",
      "from datetime import timedelta\n",
      "import multiprocessing \n",
      "from multiprocessing import Pool\n",
      "import post_processing_config as config\n",
      "\n",
      "##################################################################################\n"
     ]
    }
   ],
   "source": [
    "%%bash\n",
    "sed -n '32,48p' proc_gridstat.py"
   ]
  },
  {
   "cell_type": "markdown",
   "id": "403dd2e5",
   "metadata": {},
   "source": [
    "With our configuration file imported within our script, we can now reference the environmental variables when necessary using the following syntax"
   ]
  },
  {
   "cell_type": "markdown",
   "id": "daea7c04",
   "metadata": {},
   "source": [
    "```\n",
    "<config>.<variable_name>\n",
    "```"
   ]
  },
  {
   "cell_type": "markdown",
   "id": "01a197a7",
   "metadata": {},
   "source": [
    "For example, the `STRT_DT` variable within the configuration file can be referenced in the scripts as"
   ]
  },
  {
   "cell_type": "markdown",
   "id": "6e787a76",
   "metadata": {},
   "source": [
    "```\n",
    "config.STRT_DT\n",
    "```"
   ]
  },
  {
   "cell_type": "markdown",
   "id": "9fa6aca7",
   "metadata": {},
   "source": [
    "An example of these variables being referenced can be seen in an excerpt code from the `proc_gridstat.py` script."
   ]
  },
  {
   "cell_type": "code",
   "execution_count": 15,
   "id": "38e77dbc",
   "metadata": {},
   "outputs": [
    {
     "name": "stdout",
     "output_type": "stream",
     "text": [
      "        s_iso = config.STRT_DT[:4] + '-' + config.STRT_DT[4:6] + '-' + config.STRT_DT[6:8] +\\\n",
      "                '_' + config.STRT_DT[8:]\n"
     ]
    }
   ],
   "source": [
    "%%bash\n",
    "sed -n '83,84p' proc_gridstat.py"
   ]
  },
  {
   "cell_type": "markdown",
   "id": "a35369ff",
   "metadata": {},
   "source": [
    "## Summary \n",
    "---\n",
    "In this notebook we discussed how to generate usable universal configuration files for the purposes of both Bash and Python scripting. This included file creation, variable addition, and script implementation."
   ]
  }
 ],
 "metadata": {
  "kernelspec": {
   "display_name": "Python 3 (ipykernel)",
   "language": "python",
   "name": "python3"
  },
  "language_info": {
   "codemirror_mode": {
    "name": "ipython",
    "version": 3
   },
   "file_extension": ".py",
   "mimetype": "text/x-python",
   "name": "python",
   "nbconvert_exporter": "python",
   "pygments_lexer": "ipython3",
   "version": "3.10.10"
  }
 },
 "nbformat": 4,
 "nbformat_minor": 5
}
